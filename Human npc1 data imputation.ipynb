{
 "cells": [
  {
   "cell_type": "code",
   "execution_count": 1,
   "id": "88d85d5c",
   "metadata": {},
   "outputs": [],
   "source": [
    "import pandas as pd\n",
    "import numpy as np\n",
    "from sklearn.experimental import enable_iterative_imputer\n",
    "from sklearn.impute import IterativeImputer\n",
    "from sklearn.ensemble import RandomForestRegressor\n",
    "from scipy.stats import gmean, ttest_ind\n",
    "from statsmodels.stats.multitest import multipletests\n",
    "import warnings\n",
    "warnings.filterwarnings('ignore')\n",
    "\n",
    "import seaborn as sns\n",
    "import matplotlib.pyplot as plt\n",
    "%matplotlib inline\n",
    "from sklearn.decomposition import PCA\n",
    "from sklearn.preprocessing import StandardScaler\n",
    "from scipy.cluster.hierarchy import dendrogram, linkage\n",
    "from scipy.stats import f_oneway\n",
    "import scipy.stats as ss\n",
    "from statsmodels.stats.multicomp import pairwise_tukeyhsd\n",
    "import statsmodels.api as sm\n",
    "\n",
    "\n",
    "# transcriptome\n",
    "from statsmodels.formula.api import ols"
   ]
  },
  {
   "cell_type": "code",
   "execution_count": 3,
   "id": "249a9f4b",
   "metadata": {},
   "outputs": [],
   "source": [
    "proteome = pd.read_excel(\"/Users/mortezaabyadeh/Documents/npc-fty/published papers/human data.xlsx\")"
   ]
  },
  {
   "cell_type": "code",
   "execution_count": 4,
   "id": "e0bca5c9",
   "metadata": {},
   "outputs": [
    {
     "data": {
      "text/html": [
       "<div>\n",
       "<style scoped>\n",
       "    .dataframe tbody tr th:only-of-type {\n",
       "        vertical-align: middle;\n",
       "    }\n",
       "\n",
       "    .dataframe tbody tr th {\n",
       "        vertical-align: top;\n",
       "    }\n",
       "\n",
       "    .dataframe thead th {\n",
       "        text-align: right;\n",
       "    }\n",
       "</style>\n",
       "<table border=\"1\" class=\"dataframe\">\n",
       "  <thead>\n",
       "    <tr style=\"text-align: right;\">\n",
       "      <th></th>\n",
       "      <th>Gene names</th>\n",
       "      <th>log2 LFQ CTR_1</th>\n",
       "      <th>log2 LFQ CTR_2</th>\n",
       "      <th>log2 LFQ CTR_3</th>\n",
       "      <th>log2 LFQ NPC_1</th>\n",
       "      <th>log2 LFQ NPC_2</th>\n",
       "      <th>log2 LFQ NPC_3</th>\n",
       "      <th>log2 LFQ NPC_5</th>\n",
       "      <th>log2 LFQ NPC_6</th>\n",
       "      <th>log2 LFQ NPC_7</th>\n",
       "      <th>log2 LFQ NPC_8</th>\n",
       "    </tr>\n",
       "  </thead>\n",
       "  <tbody>\n",
       "    <tr>\n",
       "      <th>0</th>\n",
       "      <td>RPLP2</td>\n",
       "      <td>32.184105</td>\n",
       "      <td>32.034897</td>\n",
       "      <td>32.297783</td>\n",
       "      <td>31.448992</td>\n",
       "      <td>31.509327</td>\n",
       "      <td>31.600187</td>\n",
       "      <td>31.682570</td>\n",
       "      <td>31.991657</td>\n",
       "      <td>31.687666</td>\n",
       "      <td>31.464802</td>\n",
       "    </tr>\n",
       "    <tr>\n",
       "      <th>1</th>\n",
       "      <td>GNB4</td>\n",
       "      <td>29.801868</td>\n",
       "      <td>29.878445</td>\n",
       "      <td>29.542280</td>\n",
       "      <td>30.133692</td>\n",
       "      <td>30.154966</td>\n",
       "      <td>30.420113</td>\n",
       "      <td>30.123615</td>\n",
       "      <td>30.166386</td>\n",
       "      <td>30.004772</td>\n",
       "      <td>30.390385</td>\n",
       "    </tr>\n",
       "    <tr>\n",
       "      <th>2</th>\n",
       "      <td>STAM2</td>\n",
       "      <td>25.947092</td>\n",
       "      <td>26.186861</td>\n",
       "      <td>26.162579</td>\n",
       "      <td>25.631037</td>\n",
       "      <td>25.365263</td>\n",
       "      <td>25.660061</td>\n",
       "      <td>NaN</td>\n",
       "      <td>NaN</td>\n",
       "      <td>25.587378</td>\n",
       "      <td>NaN</td>\n",
       "    </tr>\n",
       "    <tr>\n",
       "      <th>3</th>\n",
       "      <td>PDLIM5</td>\n",
       "      <td>28.913250</td>\n",
       "      <td>29.047035</td>\n",
       "      <td>29.341871</td>\n",
       "      <td>28.806427</td>\n",
       "      <td>28.674215</td>\n",
       "      <td>28.289604</td>\n",
       "      <td>28.659046</td>\n",
       "      <td>28.724262</td>\n",
       "      <td>28.560671</td>\n",
       "      <td>28.269770</td>\n",
       "    </tr>\n",
       "    <tr>\n",
       "      <th>4</th>\n",
       "      <td>ALYREF</td>\n",
       "      <td>30.091755</td>\n",
       "      <td>30.157408</td>\n",
       "      <td>30.239567</td>\n",
       "      <td>29.776901</td>\n",
       "      <td>29.981825</td>\n",
       "      <td>29.744659</td>\n",
       "      <td>29.906700</td>\n",
       "      <td>30.057240</td>\n",
       "      <td>29.671518</td>\n",
       "      <td>29.874245</td>\n",
       "    </tr>\n",
       "  </tbody>\n",
       "</table>\n",
       "</div>"
      ],
      "text/plain": [
       "  Gene names  log2 LFQ CTR_1  log2 LFQ CTR_2  log2 LFQ CTR_3  log2 LFQ NPC_1  \\\n",
       "0      RPLP2       32.184105       32.034897       32.297783       31.448992   \n",
       "1       GNB4       29.801868       29.878445       29.542280       30.133692   \n",
       "2      STAM2       25.947092       26.186861       26.162579       25.631037   \n",
       "3     PDLIM5       28.913250       29.047035       29.341871       28.806427   \n",
       "4     ALYREF       30.091755       30.157408       30.239567       29.776901   \n",
       "\n",
       "   log2 LFQ NPC_2  log2 LFQ NPC_3  log2 LFQ NPC_5  log2 LFQ NPC_6  \\\n",
       "0       31.509327       31.600187       31.682570       31.991657   \n",
       "1       30.154966       30.420113       30.123615       30.166386   \n",
       "2       25.365263       25.660061             NaN             NaN   \n",
       "3       28.674215       28.289604       28.659046       28.724262   \n",
       "4       29.981825       29.744659       29.906700       30.057240   \n",
       "\n",
       "   log2 LFQ NPC_7  log2 LFQ NPC_8  \n",
       "0       31.687666       31.464802  \n",
       "1       30.004772       30.390385  \n",
       "2       25.587378             NaN  \n",
       "3       28.560671       28.269770  \n",
       "4       29.671518       29.874245  "
      ]
     },
     "execution_count": 4,
     "metadata": {},
     "output_type": "execute_result"
    }
   ],
   "source": [
    "proteome.head()"
   ]
  },
  {
   "cell_type": "code",
   "execution_count": 5,
   "id": "5b90f9e5",
   "metadata": {},
   "outputs": [
    {
     "data": {
      "text/plain": [
       "Index(['Gene names', 'log2 LFQ CTR_1', 'log2 LFQ CTR_2', 'log2 LFQ CTR_3',\n",
       "       'log2 LFQ NPC_1', 'log2 LFQ NPC_2', 'log2 LFQ NPC_3', 'log2 LFQ NPC_5',\n",
       "       'log2 LFQ NPC_6', 'log2 LFQ NPC_7', 'log2 LFQ NPC_8'],\n",
       "      dtype='object')"
      ]
     },
     "execution_count": 5,
     "metadata": {},
     "output_type": "execute_result"
    }
   ],
   "source": [
    "proteome.columns"
   ]
  },
  {
   "cell_type": "code",
   "execution_count": 8,
   "id": "8e05df54",
   "metadata": {},
   "outputs": [],
   "source": [
    "control_cols = ['log2 LFQ CTR_1', 'log2 LFQ CTR_2', 'log2 LFQ CTR_3']\n",
    "npc_cols = ['log2 LFQ NPC_1', 'log2 LFQ NPC_2', 'log2 LFQ NPC_3', 'log2 LFQ NPC_5','log2 LFQ NPC_6', 'log2 LFQ NPC_7', 'log2 LFQ NPC_8']"
   ]
  },
  {
   "cell_type": "code",
   "execution_count": 11,
   "id": "3213aa4b",
   "metadata": {},
   "outputs": [],
   "source": [
    "def filter_rows(row):\n",
    "    control_nan_count = row[control_cols].isna().sum()\n",
    "    npc_nan_count = row[npc_cols].isna().sum()\n",
    "    return not ((control_nan_count > 2) or (npc_nan_count > 2)) \n",
    "\n",
    "filtered_proteome = proteome[proteome.apply(filter_rows, axis=1)]"
   ]
  },
  {
   "cell_type": "code",
   "execution_count": 12,
   "id": "e8193222",
   "metadata": {},
   "outputs": [
    {
     "name": "stdout",
     "output_type": "stream",
     "text": [
      "(3358, 11)\n"
     ]
    },
    {
     "data": {
      "text/plain": [
       "Gene names          2\n",
       "log2 LFQ CTR_1      0\n",
       "log2 LFQ CTR_2      0\n",
       "log2 LFQ CTR_3      0\n",
       "log2 LFQ NPC_1     84\n",
       "log2 LFQ NPC_2     26\n",
       "log2 LFQ NPC_3    166\n",
       "log2 LFQ NPC_5    258\n",
       "log2 LFQ NPC_6    233\n",
       "log2 LFQ NPC_7    287\n",
       "log2 LFQ NPC_8    337\n",
       "dtype: int64"
      ]
     },
     "execution_count": 12,
     "metadata": {},
     "output_type": "execute_result"
    }
   ],
   "source": [
    "print(proteome.shape)\n",
    "proteome.isna().sum()"
   ]
  },
  {
   "cell_type": "code",
   "execution_count": 14,
   "id": "40ebf878",
   "metadata": {},
   "outputs": [
    {
     "name": "stdout",
     "output_type": "stream",
     "text": [
      "(3162, 11)\n"
     ]
    },
    {
     "data": {
      "text/plain": [
       "Gene names          2\n",
       "log2 LFQ CTR_1      0\n",
       "log2 LFQ CTR_2      0\n",
       "log2 LFQ CTR_3      0\n",
       "log2 LFQ NPC_1     44\n",
       "log2 LFQ NPC_2      4\n",
       "log2 LFQ NPC_3     68\n",
       "log2 LFQ NPC_5    137\n",
       "log2 LFQ NPC_6    120\n",
       "log2 LFQ NPC_7    156\n",
       "log2 LFQ NPC_8    199\n",
       "dtype: int64"
      ]
     },
     "execution_count": 14,
     "metadata": {},
     "output_type": "execute_result"
    }
   ],
   "source": [
    "print(filtered_proteome.shape)\n",
    "filtered_proteome.isna().sum()"
   ]
  },
  {
   "cell_type": "code",
   "execution_count": 15,
   "id": "cd744414",
   "metadata": {},
   "outputs": [],
   "source": [
    "def impute_group(group):\n",
    "    imputer = IterativeImputer(estimator=RandomForestRegressor(), max_iter=10, random_state=0)\n",
    "    imputed_group = imputer.fit_transform(group)\n",
    "    return pd.DataFrame(imputed_group, columns=group.columns, index=group.index)\n",
    "\n",
    "control_imputed = impute_group(filtered_proteome[control_cols])\n",
    "filtered_proteome[control_cols] = control_imputed\n",
    "\n",
    "npc_imputed = impute_group(filtered_proteome[npc_cols])\n",
    "filtered_proteome[npc_cols] = npc_imputed\n"
   ]
  },
  {
   "cell_type": "code",
   "execution_count": 16,
   "id": "48275533",
   "metadata": {},
   "outputs": [
    {
     "name": "stdout",
     "output_type": "stream",
     "text": [
      "Gene names        2\n",
      "log2 LFQ CTR_1    0\n",
      "log2 LFQ CTR_2    0\n",
      "log2 LFQ CTR_3    0\n",
      "log2 LFQ NPC_1    0\n",
      "log2 LFQ NPC_2    0\n",
      "log2 LFQ NPC_3    0\n",
      "log2 LFQ NPC_5    0\n",
      "log2 LFQ NPC_6    0\n",
      "log2 LFQ NPC_7    0\n",
      "log2 LFQ NPC_8    0\n",
      "dtype: int64\n",
      "(3162, 11)\n"
     ]
    }
   ],
   "source": [
    "print(filtered_proteome.isna().sum())\n",
    "print(filtered_proteome.shape)"
   ]
  },
  {
   "cell_type": "code",
   "execution_count": 17,
   "id": "7951cc7e",
   "metadata": {},
   "outputs": [],
   "source": [
    "filtered_proteome.to_excel(\"/Users/mortezaabyadeh/Documents/npc-fty/published papers/imputedhumandata.xlsx\")"
   ]
  },
  {
   "cell_type": "code",
   "execution_count": null,
   "id": "20814eee",
   "metadata": {},
   "outputs": [],
   "source": []
  }
 ],
 "metadata": {
  "kernelspec": {
   "display_name": "Python 3 (ipykernel)",
   "language": "python",
   "name": "python3"
  },
  "language_info": {
   "codemirror_mode": {
    "name": "ipython",
    "version": 3
   },
   "file_extension": ".py",
   "mimetype": "text/x-python",
   "name": "python",
   "nbconvert_exporter": "python",
   "pygments_lexer": "ipython3",
   "version": "3.9.13"
  }
 },
 "nbformat": 4,
 "nbformat_minor": 5
}
